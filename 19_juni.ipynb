{
  "nbformat": 4,
  "nbformat_minor": 0,
  "metadata": {
    "colab": {
      "provenance": [],
      "authorship_tag": "ABX9TyPNrF7s0JFl5245hZv7Ig3G",
      "include_colab_link": true
    },
    "kernelspec": {
      "name": "python3",
      "display_name": "Python 3"
    },
    "language_info": {
      "name": "python"
    }
  },
  "cells": [
    {
      "cell_type": "markdown",
      "metadata": {
        "id": "view-in-github",
        "colab_type": "text"
      },
      "source": [
        "<a href=\"https://colab.research.google.com/github/ratihisaka/latihan/blob/main/19_juni.ipynb\" target=\"_parent\"><img src=\"https://colab.research.google.com/assets/colab-badge.svg\" alt=\"Open In Colab\"/></a>"
      ]
    },
    {
      "cell_type": "code",
      "source": [
        "n = int(input('input satu angka bilangan asli say : '))\n",
        "angka_prima = True\n",
        "if(n == 1):\n",
        "  angka_prima = False\n",
        "elif((n == 2) or (n == 5) or (n == 7)):\n",
        "  angka_prima = True\n",
        "elif((n % 5 == 0) or (n % 7 == 0)):\n",
        "  angka_prima = False\n",
        "elif(n != 3) and (n % 2 == 1) and ((n % 3 == 1) or (n % 3 == 2) and (n % 5 == 0) or (n % 7 == 0)):\n",
        "  angka_prima = True\n",
        "else:\n",
        "  angka_prima = False\n",
        "\n",
        "if(angka_prima):\n",
        "  print(n, \"adalah angka prima\")\n",
        "else:\n",
        "  print(n, \"bukan prima\")"
      ],
      "metadata": {
        "id": "zcPOXPA5YBF8",
        "colab": {
          "base_uri": "https://localhost:8080/"
        },
        "outputId": "2e09808a-16cd-48f1-fa3c-6b2983a6efde"
      },
      "execution_count": 2,
      "outputs": [
        {
          "output_type": "stream",
          "name": "stdout",
          "text": [
            "input satu angka bilangan asli say : 7\n",
            "7 adalah angka prima\n"
          ]
        }
      ]
    },
    {
      "cell_type": "code",
      "source": [
        "print('Ayo Cek Angka Prima')\n",
        "print('=====================')\n",
        "print()\n",
        "\n",
        "n = int(input('Input satu angka bulat: '))\n",
        "\n",
        "angka_prima = True\n",
        "if((n == 0) or (n == 1)):\n",
        "  angka_prima = False\n",
        "else:\n",
        "  for i in range(2,(n//2)):\n",
        "    if ((n % i) == 0):\n",
        "       angka_prima = False\n",
        "       break\n",
        "\n",
        "if(angka_prima):\n",
        "  print(n,'adalah angka prima')\n",
        "else:\n",
        "  print(n,'bukan angka prima')"
      ],
      "metadata": {
        "id": "yhUSiH9_YFm8",
        "colab": {
          "base_uri": "https://localhost:8080/"
        },
        "outputId": "47c69fe2-4c2b-4a23-fd7d-11782f6a09f6"
      },
      "execution_count": 3,
      "outputs": [
        {
          "output_type": "stream",
          "name": "stdout",
          "text": [
            "Ayo Cek Angka Prima\n",
            "=====================\n",
            "\n",
            "Input satu angka bulat: 49\n",
            "49 bukan angka prima\n"
          ]
        }
      ]
    },
    {
      "cell_type": "code",
      "source": [
        "print('Hallo ayo kita cek angka-angka prima')\n",
        "print('======================================')\n",
        "print()\n",
        "\n",
        "n = int(input('Input satu bilangan asli: '))\n",
        "\n",
        "angka_prima = True\n",
        "if((n == 0) or (n == 1)):\n",
        "  angka_prima = False\n",
        "else:\n",
        "  for i in range(2,(int(n**1/2))):\n",
        "    if ((n % i) == 0):\n",
        "       angka_prima = False\n",
        "       break\n",
        "\n",
        "if(angka_prima):\n",
        "  print(n,'adalah angka prima')\n",
        "else:\n",
        "  print(n,'bukan angka prima')"
      ],
      "metadata": {
        "id": "MFChsV5WYK7i",
        "colab": {
          "base_uri": "https://localhost:8080/"
        },
        "outputId": "6cc18483-9d4d-4aa0-9d99-e84937c001ea"
      },
      "execution_count": 4,
      "outputs": [
        {
          "output_type": "stream",
          "name": "stdout",
          "text": [
            "Hallo ayo kita cek angka-angka prima\n",
            "======================================\n",
            "\n",
            "Input satu bilangan asli: 121\n",
            "121 bukan angka prima\n"
          ]
        }
      ]
    }
  ]
}